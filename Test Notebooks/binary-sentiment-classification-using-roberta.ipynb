{
 "cells": [
  {
   "cell_type": "code",
   "execution_count": null,
   "metadata": {
    "_cell_guid": "b1076dfc-b9ad-4769-8c92-a6c4dae69d19",
    "_uuid": "8f2839f25d086af736a60e9eeb907d3b93b6e0e5",
    "execution": {
     "iopub.execute_input": "2025-07-20T16:41:17.821582Z",
     "iopub.status.busy": "2025-07-20T16:41:17.821377Z",
     "iopub.status.idle": "2025-07-20T16:41:30.575473Z",
     "shell.execute_reply": "2025-07-20T16:41:30.574761Z",
     "shell.execute_reply.started": "2025-07-20T16:41:17.821546Z"
    },
    "trusted": true
   },
   "outputs": [],
   "source": [
    "import pandas as pd\n",
    "import numpy as np\n",
    "import matplotlib.pyplot as plt\n",
    "import seaborn as sns\n",
    "import warnings\n",
    "warnings.simplefilter(\"ignore\")\n",
    "\n",
    "import torch\n",
    "from torch import nn, optim\n",
    "from transformers import AutoTokenizer, AutoModel, AdamW, get_linear_schedule_with_warmup\n",
    "from torch.utils.data import Dataset, DataLoader\n",
    "from collections import defaultdict\n",
    "\n",
    "from sklearn.model_selection import train_test_split\n",
    "from sklearn.metrics import classification_report, confusion_matrix\n",
    "\n",
    "from tqdm import tqdm"
   ]
  },
  {
   "cell_type": "code",
   "execution_count": 2,
   "metadata": {
    "execution": {
     "iopub.execute_input": "2025-07-20T16:41:30.576586Z",
     "iopub.status.busy": "2025-07-20T16:41:30.576132Z",
     "iopub.status.idle": "2025-07-20T16:41:30.760214Z",
     "shell.execute_reply": "2025-07-20T16:41:30.759415Z",
     "shell.execute_reply.started": "2025-07-20T16:41:30.576563Z"
    },
    "trusted": true
   },
   "outputs": [
    {
     "name": "stdout",
     "output_type": "stream",
     "text": [
      "Sun Jul 20 16:41:30 2025       \n",
      "+-----------------------------------------------------------------------------------------+\n",
      "| NVIDIA-SMI 560.35.03              Driver Version: 560.35.03      CUDA Version: 12.6     |\n",
      "|-----------------------------------------+------------------------+----------------------+\n",
      "| GPU  Name                 Persistence-M | Bus-Id          Disp.A | Volatile Uncorr. ECC |\n",
      "| Fan  Temp   Perf          Pwr:Usage/Cap |           Memory-Usage | GPU-Util  Compute M. |\n",
      "|                                         |                        |               MIG M. |\n",
      "|=========================================+========================+======================|\n",
      "|   0  Tesla P100-PCIE-16GB           Off |   00000000:00:04.0 Off |                    0 |\n",
      "| N/A   37C    P0             26W /  250W |       3MiB /  16384MiB |      0%      Default |\n",
      "|                                         |                        |                  N/A |\n",
      "+-----------------------------------------+------------------------+----------------------+\n",
      "                                                                                         \n",
      "+-----------------------------------------------------------------------------------------+\n",
      "| Processes:                                                                              |\n",
      "|  GPU   GI   CI        PID   Type   Process name                              GPU Memory |\n",
      "|        ID   ID                                                               Usage      |\n",
      "|=========================================================================================|\n",
      "|  No running processes found                                                             |\n",
      "+-----------------------------------------------------------------------------------------+\n"
     ]
    }
   ],
   "source": [
    "!nvidia-smi"
   ]
  },
  {
   "cell_type": "code",
   "execution_count": null,
   "metadata": {
    "execution": {
     "iopub.execute_input": "2025-07-20T16:41:30.761724Z",
     "iopub.status.busy": "2025-07-20T16:41:30.761400Z",
     "iopub.status.idle": "2025-07-20T16:41:31.083193Z",
     "shell.execute_reply": "2025-07-20T16:41:31.082536Z",
     "shell.execute_reply.started": "2025-07-20T16:41:30.761691Z"
    },
    "trusted": true
   },
   "outputs": [],
   "source": [
    "df = pd.read_csv(\"../Dataset/gpreviews_2.csv\")"
   ]
  },
  {
   "cell_type": "code",
   "execution_count": 4,
   "metadata": {
    "execution": {
     "iopub.execute_input": "2025-07-20T16:41:31.084204Z",
     "iopub.status.busy": "2025-07-20T16:41:31.083996Z",
     "iopub.status.idle": "2025-07-20T16:41:31.108051Z",
     "shell.execute_reply": "2025-07-20T16:41:31.107321Z",
     "shell.execute_reply.started": "2025-07-20T16:41:31.084185Z"
    },
    "trusted": true
   },
   "outputs": [
    {
     "data": {
      "text/html": [
       "<div>\n",
       "<style scoped>\n",
       "    .dataframe tbody tr th:only-of-type {\n",
       "        vertical-align: middle;\n",
       "    }\n",
       "\n",
       "    .dataframe tbody tr th {\n",
       "        vertical-align: top;\n",
       "    }\n",
       "\n",
       "    .dataframe thead th {\n",
       "        text-align: right;\n",
       "    }\n",
       "</style>\n",
       "<table border=\"1\" class=\"dataframe\">\n",
       "  <thead>\n",
       "    <tr style=\"text-align: right;\">\n",
       "      <th></th>\n",
       "      <th>reviewId</th>\n",
       "      <th>text</th>\n",
       "      <th>score</th>\n",
       "      <th>sentiment</th>\n",
       "      <th>labels</th>\n",
       "    </tr>\n",
       "  </thead>\n",
       "  <tbody>\n",
       "    <tr>\n",
       "      <th>0</th>\n",
       "      <td>7793317c-ab30-4e9b-abcd-6e3df0a5d440</td>\n",
       "      <td>Sony Liv. one of best experiences. I changed m...</td>\n",
       "      <td>1</td>\n",
       "      <td>Positive</td>\n",
       "      <td>['user experience', 'features']</td>\n",
       "    </tr>\n",
       "    <tr>\n",
       "      <th>1</th>\n",
       "      <td>c2617457-7693-45f0-9142-079b250ef22f</td>\n",
       "      <td>Horrible app honestly for such a rich company ...</td>\n",
       "      <td>0</td>\n",
       "      <td>Negative</td>\n",
       "      <td>['user experience', 'cost', 'performance', 'fe...</td>\n",
       "    </tr>\n",
       "    <tr>\n",
       "      <th>2</th>\n",
       "      <td>dc96ac81-1311-4018-acee-588b79659125</td>\n",
       "      <td>This app very good and useful. For watching Ko...</td>\n",
       "      <td>1</td>\n",
       "      <td>Positive</td>\n",
       "      <td>['features', 'user experience']</td>\n",
       "    </tr>\n",
       "    <tr>\n",
       "      <th>3</th>\n",
       "      <td>5445cb50-f16d-4a5a-8b03-66909aa33bb8</td>\n",
       "      <td>Suddenly signed out of my account for no reaso...</td>\n",
       "      <td>0</td>\n",
       "      <td>Negative</td>\n",
       "      <td>['login problems', 'data loss', 'user experien...</td>\n",
       "    </tr>\n",
       "    <tr>\n",
       "      <th>4</th>\n",
       "      <td>8d86a93f-538d-451c-9243-f364227e3976</td>\n",
       "      <td>I've found everything here to be of my liking</td>\n",
       "      <td>1</td>\n",
       "      <td>Positive</td>\n",
       "      <td>['features', 'user experience']</td>\n",
       "    </tr>\n",
       "  </tbody>\n",
       "</table>\n",
       "</div>"
      ],
      "text/plain": [
       "                               reviewId  \\\n",
       "0  7793317c-ab30-4e9b-abcd-6e3df0a5d440   \n",
       "1  c2617457-7693-45f0-9142-079b250ef22f   \n",
       "2  dc96ac81-1311-4018-acee-588b79659125   \n",
       "3  5445cb50-f16d-4a5a-8b03-66909aa33bb8   \n",
       "4  8d86a93f-538d-451c-9243-f364227e3976   \n",
       "\n",
       "                                                text  score sentiment  \\\n",
       "0  Sony Liv. one of best experiences. I changed m...      1  Positive   \n",
       "1  Horrible app honestly for such a rich company ...      0  Negative   \n",
       "2  This app very good and useful. For watching Ko...      1  Positive   \n",
       "3  Suddenly signed out of my account for no reaso...      0  Negative   \n",
       "4      I've found everything here to be of my liking      1  Positive   \n",
       "\n",
       "                                              labels  \n",
       "0                    ['user experience', 'features']  \n",
       "1  ['user experience', 'cost', 'performance', 'fe...  \n",
       "2                    ['features', 'user experience']  \n",
       "3  ['login problems', 'data loss', 'user experien...  \n",
       "4                    ['features', 'user experience']  "
      ]
     },
     "execution_count": 4,
     "metadata": {},
     "output_type": "execute_result"
    }
   ],
   "source": [
    "df.head()"
   ]
  },
  {
   "cell_type": "code",
   "execution_count": null,
   "metadata": {
    "execution": {
     "iopub.execute_input": "2025-07-20T16:41:31.109085Z",
     "iopub.status.busy": "2025-07-20T16:41:31.108887Z",
     "iopub.status.idle": "2025-07-20T16:41:46.243932Z",
     "shell.execute_reply": "2025-07-20T16:41:46.242980Z",
     "shell.execute_reply.started": "2025-07-20T16:41:31.109067Z"
    },
    "trusted": true
   },
   "outputs": [
    {
     "data": {
      "application/vnd.jupyter.widget-view+json": {
       "model_id": "4fb1f07820a4479eaa0c48b7ee743e06",
       "version_major": 2,
       "version_minor": 0
      },
      "text/plain": [
       "tokenizer_config.json:   0%|          | 0.00/25.0 [00:00<?, ?B/s]"
      ]
     },
     "metadata": {},
     "output_type": "display_data"
    },
    {
     "data": {
      "application/vnd.jupyter.widget-view+json": {
       "model_id": "406ae8a9b0c348e1bdf0e66b3273e22b",
       "version_major": 2,
       "version_minor": 0
      },
      "text/plain": [
       "config.json:   0%|          | 0.00/481 [00:00<?, ?B/s]"
      ]
     },
     "metadata": {},
     "output_type": "display_data"
    },
    {
     "data": {
      "application/vnd.jupyter.widget-view+json": {
       "model_id": "3aca57cf4b9a4a2e829b4a4267038eef",
       "version_major": 2,
       "version_minor": 0
      },
      "text/plain": [
       "vocab.json: 0.00B [00:00, ?B/s]"
      ]
     },
     "metadata": {},
     "output_type": "display_data"
    },
    {
     "data": {
      "application/vnd.jupyter.widget-view+json": {
       "model_id": "50967a6d96184ade98341b7f52eb4a5d",
       "version_major": 2,
       "version_minor": 0
      },
      "text/plain": [
       "merges.txt: 0.00B [00:00, ?B/s]"
      ]
     },
     "metadata": {},
     "output_type": "display_data"
    },
    {
     "data": {
      "application/vnd.jupyter.widget-view+json": {
       "model_id": "c181158a53c143f1a599b45f54b8df45",
       "version_major": 2,
       "version_minor": 0
      },
      "text/plain": [
       "tokenizer.json: 0.00B [00:00, ?B/s]"
      ]
     },
     "metadata": {},
     "output_type": "display_data"
    },
    {
     "data": {
      "application/vnd.jupyter.widget-view+json": {
       "model_id": "a9a2e311dc7440fb85a73f1203eab3e0",
       "version_major": 2,
       "version_minor": 0
      },
      "text/plain": [
       "model.safetensors:   0%|          | 0.00/499M [00:00<?, ?B/s]"
      ]
     },
     "metadata": {},
     "output_type": "display_data"
    },
    {
     "name": "stderr",
     "output_type": "stream",
     "text": [
      "Some weights of RobertaModel were not initialized from the model checkpoint at FacebookAI/roberta-base and are newly initialized: ['roberta.pooler.dense.bias', 'roberta.pooler.dense.weight']\n",
      "You should probably TRAIN this model on a down-stream task to be able to use it for predictions and inference.\n"
     ]
    }
   ],
   "source": [
    "tokenizer = AutoTokenizer.from_pretrained(\"../Models/roberta_tokenizer\")\n",
    "model = AutoModel.from_pretrained(\"../Models/roberta_base\")"
   ]
  },
  {
   "cell_type": "code",
   "execution_count": 6,
   "metadata": {
    "execution": {
     "iopub.execute_input": "2025-07-20T16:41:46.248723Z",
     "iopub.status.busy": "2025-07-20T16:41:46.247898Z",
     "iopub.status.idle": "2025-07-20T16:41:50.841667Z",
     "shell.execute_reply": "2025-07-20T16:41:50.840992Z",
     "shell.execute_reply.started": "2025-07-20T16:41:46.248682Z"
    },
    "trusted": true
   },
   "outputs": [
    {
     "name": "stderr",
     "output_type": "stream",
     "text": [
      "Truncation was not explicitly activated but `max_length` is provided a specific value, please use `truncation=True` to explicitly truncate examples to max length. Defaulting to 'longest_first' truncation strategy. If you encode pairs of sequences (GLUE-style) with the tokenizer you can select this strategy more precisely by providing a specific strategy to `truncation`.\n"
     ]
    }
   ],
   "source": [
    "token_len = []\n",
    "for txt in df.text:\n",
    "    tokens = tokenizer.encode(txt, max_length = 512)\n",
    "    token_len.append(len(tokens))"
   ]
  },
  {
   "cell_type": "code",
   "execution_count": 7,
   "metadata": {
    "execution": {
     "iopub.execute_input": "2025-07-20T16:41:50.843218Z",
     "iopub.status.busy": "2025-07-20T16:41:50.843000Z",
     "iopub.status.idle": "2025-07-20T16:41:51.267070Z",
     "shell.execute_reply": "2025-07-20T16:41:51.266075Z",
     "shell.execute_reply.started": "2025-07-20T16:41:50.843200Z"
    },
    "trusted": true
   },
   "outputs": [
    {
     "data": {
      "text/plain": [
       "<Axes: ylabel='Density'>"
      ]
     },
     "execution_count": 7,
     "metadata": {},
     "output_type": "execute_result"
    },
    {
     "data": {
      "image/png": "[encoded data removed]",
      "text/plain": [
       "<Figure size 640x480 with 1 Axes>"
      ]
     },
     "metadata": {},
     "output_type": "display_data"
    }
   ],
   "source": [
    "sns.distplot(token_len)"
   ]
  },
  {
   "cell_type": "code",
   "execution_count": 8,
   "metadata": {
    "execution": {
     "iopub.execute_input": "2025-07-20T16:41:51.268430Z",
     "iopub.status.busy": "2025-07-20T16:41:51.268075Z",
     "iopub.status.idle": "2025-07-20T16:41:51.274065Z",
     "shell.execute_reply": "2025-07-20T16:41:51.273303Z",
     "shell.execute_reply.started": "2025-07-20T16:41:51.268395Z"
    },
    "trusted": true
   },
   "outputs": [],
   "source": [
    "max_length = 100\n",
    "class GPReview(Dataset):\n",
    "    def __init__(self, review, target, tokenizer, max_len):\n",
    "        self.review = review\n",
    "        self.target = target\n",
    "        self.tokenizer = tokenizer\n",
    "        self.max_len = max_len\n",
    "\n",
    "    def __len__ (self):\n",
    "        return len(self.review)\n",
    "\n",
    "    def __getitem__(self, item):\n",
    "        review = str(self.review[item])\n",
    "\n",
    "        encoding = self.tokenizer.encode_plus(review,\n",
    "                                             max_length = self.max_len,\n",
    "                                             add_special_tokens=True,\n",
    "                                             pad_to_max_length = True,\n",
    "                                             truncation = True,\n",
    "                                             return_attention_mask = True,\n",
    "                                             return_token_type_ids = False,\n",
    "                                             return_tensors = \"pt\")\n",
    "        \n",
    "        return{\n",
    "            \"input_ids\": encoding[\"input_ids\"].squeeze(),\n",
    "            \"attention_mask\": encoding[\"attention_mask\"].squeeze(),\n",
    "            \"targets\": torch.tensor(self.target[item], dtype = torch.long)\n",
    "        }"
   ]
  },
  {
   "cell_type": "code",
   "execution_count": 9,
   "metadata": {
    "execution": {
     "iopub.execute_input": "2025-07-20T16:41:51.275065Z",
     "iopub.status.busy": "2025-07-20T16:41:51.274814Z",
     "iopub.status.idle": "2025-07-20T16:41:51.304549Z",
     "shell.execute_reply": "2025-07-20T16:41:51.303783Z",
     "shell.execute_reply.started": "2025-07-20T16:41:51.275044Z"
    },
    "trusted": true
   },
   "outputs": [],
   "source": [
    "df_train, df_test = train_test_split(df, test_size = 0.3, random_state = 42)\n",
    "df_val, df_test = train_test_split(df_test, test_size = 0.5, random_state = 42)"
   ]
  },
  {
   "cell_type": "code",
   "execution_count": 10,
   "metadata": {
    "execution": {
     "iopub.execute_input": "2025-07-20T16:41:51.305538Z",
     "iopub.status.busy": "2025-07-20T16:41:51.305240Z",
     "iopub.status.idle": "2025-07-20T16:41:51.310642Z",
     "shell.execute_reply": "2025-07-20T16:41:51.309796Z",
     "shell.execute_reply.started": "2025-07-20T16:41:51.305510Z"
    },
    "trusted": true
   },
   "outputs": [
    {
     "data": {
      "text/plain": [
       "((23098, 5), (4950, 5), (4950, 5))"
      ]
     },
     "execution_count": 10,
     "metadata": {},
     "output_type": "execute_result"
    }
   ],
   "source": [
    "df_train.shape, df_test.shape, df_val.shape"
   ]
  },
  {
   "cell_type": "code",
   "execution_count": 11,
   "metadata": {
    "execution": {
     "iopub.execute_input": "2025-07-20T16:41:51.311759Z",
     "iopub.status.busy": "2025-07-20T16:41:51.311502Z",
     "iopub.status.idle": "2025-07-20T16:41:51.326987Z",
     "shell.execute_reply": "2025-07-20T16:41:51.326125Z",
     "shell.execute_reply.started": "2025-07-20T16:41:51.311728Z"
    },
    "trusted": true
   },
   "outputs": [],
   "source": [
    "def create_data_loader(df, tokenizer, max_len, batch_size):\n",
    "    ds = GPReview(review = df.text.to_numpy(), \n",
    "                  target = df.score.to_numpy(),\n",
    "                 tokenizer = tokenizer,\n",
    "                 max_len = max_len)\n",
    "\n",
    "    return DataLoader(ds, batch_size = batch_size)\n",
    "    "
   ]
  },
  {
   "cell_type": "code",
   "execution_count": 12,
   "metadata": {
    "execution": {
     "iopub.execute_input": "2025-07-20T16:41:51.328177Z",
     "iopub.status.busy": "2025-07-20T16:41:51.327860Z",
     "iopub.status.idle": "2025-07-20T16:41:51.341419Z",
     "shell.execute_reply": "2025-07-20T16:41:51.340760Z",
     "shell.execute_reply.started": "2025-07-20T16:41:51.328156Z"
    },
    "trusted": true
   },
   "outputs": [],
   "source": [
    "batch_size = 32\n",
    "train_data_loader = create_data_loader(df_train, tokenizer, max_length, batch_size)\n",
    "val_data_loader = create_data_loader(df_val, tokenizer, max_length, batch_size)\n",
    "test_data_loader = create_data_loader(df_test, tokenizer, max_length, batch_size)"
   ]
  },
  {
   "cell_type": "code",
   "execution_count": 13,
   "metadata": {
    "execution": {
     "iopub.execute_input": "2025-07-20T16:41:51.342316Z",
     "iopub.status.busy": "2025-07-20T16:41:51.342084Z",
     "iopub.status.idle": "2025-07-20T16:41:51.380461Z",
     "shell.execute_reply": "2025-07-20T16:41:51.379811Z",
     "shell.execute_reply.started": "2025-07-20T16:41:51.342272Z"
    },
    "trusted": true
   },
   "outputs": [],
   "source": [
    "data = next(iter(train_data_loader))"
   ]
  },
  {
   "cell_type": "code",
   "execution_count": 14,
   "metadata": {
    "execution": {
     "iopub.execute_input": "2025-07-20T16:41:51.381432Z",
     "iopub.status.busy": "2025-07-20T16:41:51.381227Z",
     "iopub.status.idle": "2025-07-20T16:41:51.386235Z",
     "shell.execute_reply": "2025-07-20T16:41:51.385524Z",
     "shell.execute_reply.started": "2025-07-20T16:41:51.381415Z"
    },
    "trusted": true
   },
   "outputs": [
    {
     "data": {
      "text/plain": [
       "dict_keys(['input_ids', 'attention_mask', 'targets'])"
      ]
     },
     "execution_count": 14,
     "metadata": {},
     "output_type": "execute_result"
    }
   ],
   "source": [
    "data.keys()"
   ]
  },
  {
   "cell_type": "code",
   "execution_count": 15,
   "metadata": {
    "execution": {
     "iopub.execute_input": "2025-07-20T16:41:51.387119Z",
     "iopub.status.busy": "2025-07-20T16:41:51.386937Z",
     "iopub.status.idle": "2025-07-20T16:41:51.402908Z",
     "shell.execute_reply": "2025-07-20T16:41:51.402096Z",
     "shell.execute_reply.started": "2025-07-20T16:41:51.387103Z"
    },
    "trusted": true
   },
   "outputs": [
    {
     "data": {
      "text/plain": [
       "torch.Size([32, 100])"
      ]
     },
     "execution_count": 15,
     "metadata": {},
     "output_type": "execute_result"
    }
   ],
   "source": [
    "data[\"input_ids\"].shape"
   ]
  },
  {
   "cell_type": "code",
   "execution_count": 16,
   "metadata": {
    "execution": {
     "iopub.execute_input": "2025-07-20T16:41:51.403971Z",
     "iopub.status.busy": "2025-07-20T16:41:51.403712Z",
     "iopub.status.idle": "2025-07-20T16:41:51.429471Z",
     "shell.execute_reply": "2025-07-20T16:41:51.428805Z",
     "shell.execute_reply.started": "2025-07-20T16:41:51.403941Z"
    },
    "trusted": true
   },
   "outputs": [
    {
     "data": {
      "text/plain": [
       "tensor([[    0,   133,  7465,  ...,     1,     1,     1],\n",
       "        [    0, 17485,  7229,  ...,     1,     1,     1],\n",
       "        [    0, 18064,    34,  ...,     1,     1,     1],\n",
       "        ...,\n",
       "        [    0,  6785,  2129,  ...,     1,     1,     1],\n",
       "        [    0,   100,  1871,  ...,     1,     1,     1],\n",
       "        [    0,   771, 27407,  ...,     1,     1,     1]])"
      ]
     },
     "execution_count": 16,
     "metadata": {},
     "output_type": "execute_result"
    }
   ],
   "source": [
    "data[\"input_ids\"]"
   ]
  },
  {
   "cell_type": "code",
   "execution_count": 17,
   "metadata": {
    "execution": {
     "iopub.execute_input": "2025-07-20T16:41:51.430488Z",
     "iopub.status.busy": "2025-07-20T16:41:51.430253Z",
     "iopub.status.idle": "2025-07-20T16:41:51.436990Z",
     "shell.execute_reply": "2025-07-20T16:41:51.436376Z",
     "shell.execute_reply.started": "2025-07-20T16:41:51.430470Z"
    },
    "trusted": true
   },
   "outputs": [
    {
     "data": {
      "text/plain": [
       "torch.Size([32, 100])"
      ]
     },
     "execution_count": 17,
     "metadata": {},
     "output_type": "execute_result"
    }
   ],
   "source": [
    "data[\"attention_mask\"].shape"
   ]
  },
  {
   "cell_type": "code",
   "execution_count": 18,
   "metadata": {
    "execution": {
     "iopub.execute_input": "2025-07-20T16:41:51.438092Z",
     "iopub.status.busy": "2025-07-20T16:41:51.437795Z",
     "iopub.status.idle": "2025-07-20T16:41:51.458614Z",
     "shell.execute_reply": "2025-07-20T16:41:51.457810Z",
     "shell.execute_reply.started": "2025-07-20T16:41:51.438042Z"
    },
    "trusted": true
   },
   "outputs": [
    {
     "data": {
      "text/plain": [
       "tensor([[1, 1, 1,  ..., 0, 0, 0],\n",
       "        [1, 1, 1,  ..., 0, 0, 0],\n",
       "        [1, 1, 1,  ..., 0, 0, 0],\n",
       "        ...,\n",
       "        [1, 1, 1,  ..., 0, 0, 0],\n",
       "        [1, 1, 1,  ..., 0, 0, 0],\n",
       "        [1, 1, 1,  ..., 0, 0, 0]])"
      ]
     },
     "execution_count": 18,
     "metadata": {},
     "output_type": "execute_result"
    }
   ],
   "source": [
    "data[\"attention_mask\"]"
   ]
  },
  {
   "cell_type": "code",
   "execution_count": 20,
   "metadata": {
    "execution": {
     "iopub.execute_input": "2025-07-20T16:41:59.817816Z",
     "iopub.status.busy": "2025-07-20T16:41:59.817520Z",
     "iopub.status.idle": "2025-07-20T16:41:59.823601Z",
     "shell.execute_reply": "2025-07-20T16:41:59.822766Z",
     "shell.execute_reply.started": "2025-07-20T16:41:59.817794Z"
    },
    "trusted": true
   },
   "outputs": [],
   "source": [
    "import torch.nn as nn\n",
    "from transformers import AutoModel\n",
    "\n",
    "class Sentiment_Classifier(nn.Module):\n",
    "    def __init__(self, n_classes):\n",
    "        super(Sentiment_Classifier, self).__init__()\n",
    "        self.roberta = AutoModel.from_pretrained(\"FacebookAI/roberta-base\")\n",
    "        \n",
    "        for param in self.roberta.parameters():\n",
    "            param.requires_grad = False\n",
    "\n",
    "        for layer in self.roberta.encoder.layer[-2:]:\n",
    "            for param in layer.parameters():\n",
    "                param.requires_grad = True\n",
    "                \n",
    "        self.drop = nn.Dropout(p=0.1)\n",
    "        self.out = nn.Linear(self.roberta.config.hidden_size, n_classes)\n",
    "\n",
    "    def forward(self, input_ids, attention_mask):\n",
    "        output = self.roberta(input_ids=input_ids, attention_mask=attention_mask)\n",
    "        pooled_output = output.last_hidden_state[:, 0, :]  # [CLS] token representation\n",
    "        output = self.drop(pooled_output)\n",
    "        output = self.out(output)\n",
    "        return output\n"
   ]
  },
  {
   "cell_type": "code",
   "execution_count": 21,
   "metadata": {
    "execution": {
     "iopub.execute_input": "2025-07-20T16:42:01.664788Z",
     "iopub.status.busy": "2025-07-20T16:42:01.664499Z",
     "iopub.status.idle": "2025-07-20T16:42:01.668425Z",
     "shell.execute_reply": "2025-07-20T16:42:01.667624Z",
     "shell.execute_reply.started": "2025-07-20T16:42:01.664766Z"
    },
    "trusted": true
   },
   "outputs": [],
   "source": [
    "device = \"cuda\""
   ]
  },
  {
   "cell_type": "code",
   "execution_count": 22,
   "metadata": {
    "execution": {
     "iopub.execute_input": "2025-07-20T16:42:02.035445Z",
     "iopub.status.busy": "2025-07-20T16:42:02.035121Z",
     "iopub.status.idle": "2025-07-20T16:42:02.527279Z",
     "shell.execute_reply": "2025-07-20T16:42:02.526589Z",
     "shell.execute_reply.started": "2025-07-20T16:42:02.035419Z"
    },
    "trusted": true
   },
   "outputs": [
    {
     "name": "stderr",
     "output_type": "stream",
     "text": [
      "Some weights of RobertaModel were not initialized from the model checkpoint at FacebookAI/roberta-base and are newly initialized: ['roberta.pooler.dense.bias', 'roberta.pooler.dense.weight']\n",
      "You should probably TRAIN this model on a down-stream task to be able to use it for predictions and inference.\n"
     ]
    },
    {
     "data": {
      "text/plain": [
       "Sentiment_Classifier(\n",
       "  (roberta): RobertaModel(\n",
       "    (embeddings): RobertaEmbeddings(\n",
       "      (word_embeddings): Embedding(50265, 768, padding_idx=1)\n",
       "      (position_embeddings): Embedding(514, 768, padding_idx=1)\n",
       "      (token_type_embeddings): Embedding(1, 768)\n",
       "      (LayerNorm): LayerNorm((768,), eps=1e-05, elementwise_affine=True)\n",
       "      (dropout): Dropout(p=0.1, inplace=False)\n",
       "    )\n",
       "    (encoder): RobertaEncoder(\n",
       "      (layer): ModuleList(\n",
       "        (0-11): 12 x RobertaLayer(\n",
       "          (attention): RobertaAttention(\n",
       "            (self): RobertaSdpaSelfAttention(\n",
       "              (query): Linear(in_features=768, out_features=768, bias=True)\n",
       "              (key): Linear(in_features=768, out_features=768, bias=True)\n",
       "              (value): Linear(in_features=768, out_features=768, bias=True)\n",
       "              (dropout): Dropout(p=0.1, inplace=False)\n",
       "            )\n",
       "            (output): RobertaSelfOutput(\n",
       "              (dense): Linear(in_features=768, out_features=768, bias=True)\n",
       "              (LayerNorm): LayerNorm((768,), eps=1e-05, elementwise_affine=True)\n",
       "              (dropout): Dropout(p=0.1, inplace=False)\n",
       "            )\n",
       "          )\n",
       "          (intermediate): RobertaIntermediate(\n",
       "            (dense): Linear(in_features=768, out_features=3072, bias=True)\n",
       "            (intermediate_act_fn): GELUActivation()\n",
       "          )\n",
       "          (output): RobertaOutput(\n",
       "            (dense): Linear(in_features=3072, out_features=768, bias=True)\n",
       "            (LayerNorm): LayerNorm((768,), eps=1e-05, elementwise_affine=True)\n",
       "            (dropout): Dropout(p=0.1, inplace=False)\n",
       "          )\n",
       "        )\n",
       "      )\n",
       "    )\n",
       "    (pooler): RobertaPooler(\n",
       "      (dense): Linear(in_features=768, out_features=768, bias=True)\n",
       "      (activation): Tanh()\n",
       "    )\n",
       "  )\n",
       "  (drop): Dropout(p=0.1, inplace=False)\n",
       "  (out): Linear(in_features=768, out_features=2, bias=True)\n",
       ")"
      ]
     },
     "execution_count": 22,
     "metadata": {},
     "output_type": "execute_result"
    }
   ],
   "source": [
    "model = Sentiment_Classifier(n_classes = 2)\n",
    "model.to(device)"
   ]
  },
  {
   "cell_type": "code",
   "execution_count": 23,
   "metadata": {
    "execution": {
     "iopub.execute_input": "2025-07-20T16:42:05.051155Z",
     "iopub.status.busy": "2025-07-20T16:42:05.050876Z",
     "iopub.status.idle": "2025-07-20T16:42:05.058385Z",
     "shell.execute_reply": "2025-07-20T16:42:05.057602Z",
     "shell.execute_reply.started": "2025-07-20T16:42:05.051134Z"
    },
    "trusted": true
   },
   "outputs": [],
   "source": [
    "epochs = 3\n",
    "optimizer = AdamW(model.parameters(), lr= 2e-5, correct_bias = False)\n",
    "\n",
    "total_steps = len(train_data_loader)*epochs\n",
    "scheduler = get_linear_schedule_with_warmup(\n",
    "    optimizer,\n",
    "    num_warmup_steps = 0.15 * total_steps,\n",
    "    num_training_steps=total_steps\n",
    ")\n",
    "\n",
    "loss_fn = nn.CrossEntropyLoss().to(device)"
   ]
  },
  {
   "cell_type": "code",
   "execution_count": 24,
   "metadata": {
    "execution": {
     "iopub.execute_input": "2025-07-20T16:42:05.681935Z",
     "iopub.status.busy": "2025-07-20T16:42:05.681654Z",
     "iopub.status.idle": "2025-07-20T16:42:05.687551Z",
     "shell.execute_reply": "2025-07-20T16:42:05.686600Z",
     "shell.execute_reply.started": "2025-07-20T16:42:05.681915Z"
    },
    "trusted": true
   },
   "outputs": [],
   "source": [
    "def train_epoch(\n",
    "  model,\n",
    "  data_loader,\n",
    "  loss_fn,\n",
    "  optimizer,\n",
    "  device,\n",
    "  scheduler,\n",
    "  n_examples\n",
    "):\n",
    "  model = model.train()\n",
    "  losses = []\n",
    "  correct_predictions = 0\n",
    "  for d in data_loader:\n",
    "    input_ids = d[\"input_ids\"].to(device)\n",
    "    attention_mask = d[\"attention_mask\"].to(device)\n",
    "    targets = d[\"targets\"].to(device)\n",
    "    outputs = model(\n",
    "      input_ids=input_ids,\n",
    "      attention_mask=attention_mask\n",
    "    )\n",
    "    preds = torch.argmax(outputs, dim=1)\n",
    "    loss = loss_fn(outputs, targets)\n",
    "    correct_predictions += torch.sum(preds == targets)\n",
    "    losses.append(loss.item())\n",
    "    loss.backward()\n",
    "    nn.utils.clip_grad_norm_(model.parameters(), max_norm=1.0)\n",
    "    optimizer.step()\n",
    "    scheduler.step()\n",
    "    optimizer.zero_grad()\n",
    "  return correct_predictions.double() / n_examples, np.mean(losses)"
   ]
  },
  {
   "cell_type": "code",
   "execution_count": 25,
   "metadata": {
    "execution": {
     "iopub.execute_input": "2025-07-20T16:42:07.712376Z",
     "iopub.status.busy": "2025-07-20T16:42:07.712046Z",
     "iopub.status.idle": "2025-07-20T16:42:07.717730Z",
     "shell.execute_reply": "2025-07-20T16:42:07.716741Z",
     "shell.execute_reply.started": "2025-07-20T16:42:07.712348Z"
    },
    "trusted": true
   },
   "outputs": [],
   "source": [
    "def eval_model(model, data_loader, loss_fn, device, n_examples):\n",
    "  model = model.eval()\n",
    "  losses = []\n",
    "  correct_predictions = 0\n",
    "  with torch.no_grad():\n",
    "    for d in data_loader:\n",
    "      input_ids = d[\"input_ids\"].to(device)\n",
    "      attention_mask = d[\"attention_mask\"].to(device)\n",
    "      targets = d[\"targets\"].to(device)\n",
    "      outputs = model(\n",
    "        input_ids=input_ids,\n",
    "        attention_mask=attention_mask\n",
    "      )\n",
    "      preds = torch.argmax(outputs, dim=1)\n",
    "      loss = loss_fn(outputs, targets)\n",
    "      correct_predictions += torch.sum(preds == targets)\n",
    "      losses.append(loss.item())\n",
    "  return correct_predictions.double() / n_examples, np.mean(losses)"
   ]
  },
  {
   "cell_type": "code",
   "execution_count": null,
   "metadata": {
    "execution": {
     "iopub.execute_input": "2025-07-20T16:42:08.039247Z",
     "iopub.status.busy": "2025-07-20T16:42:08.038938Z",
     "iopub.status.idle": "2025-07-20T16:47:25.452059Z",
     "shell.execute_reply": "2025-07-20T16:47:25.450976Z",
     "shell.execute_reply.started": "2025-07-20T16:42:08.039220Z"
    },
    "trusted": true
   },
   "outputs": [
    {
     "name": "stdout",
     "output_type": "stream",
     "text": [
      "Epoch 1/3\n",
      "----------\n",
      "Train loss: 0.30 \n",
      "accuracy: 86.84%\n",
      "Val loss: 0.22 \n",
      "accuracy: 92.38%\n",
      "\n",
      "Epoch 2/3\n",
      "----------\n",
      "Train loss: 0.21 \n",
      "accuracy: 92.12%\n",
      "Val loss: 0.21 \n",
      "accuracy: 92.42%\n",
      "\n",
      "Epoch 3/3\n",
      "----------\n",
      "Train loss: 0.20 \n",
      "accuracy: 92.50%\n",
      "Val loss: 0.21 \n",
      "accuracy: 92.67%\n",
      "\n",
      "CPU times: user 5min 14s, sys: 2.1 s, total: 5min 16s\n",
      "Wall time: 5min 17s\n"
     ]
    }
   ],
   "source": [
    "%%time\n",
    "history = defaultdict(list)\n",
    "best_accuracy = 0\n",
    "for epoch in range(epochs):\n",
    "  print(f'Epoch {epoch + 1}/{epochs}')\n",
    "  print('-' * 10)\n",
    "  train_acc, train_loss = train_epoch(\n",
    "    model,\n",
    "    train_data_loader,\n",
    "    loss_fn,\n",
    "    optimizer,\n",
    "    device,\n",
    "    scheduler,\n",
    "    len(df_train)\n",
    "  )\n",
    "  print(f'Train loss: {train_loss:.2f} \\naccuracy: {train_acc*100:.2f}%')\n",
    "  val_acc, val_loss = eval_model(\n",
    "    model,\n",
    "    val_data_loader,\n",
    "    loss_fn,\n",
    "    device,\n",
    "    len(df_val)\n",
    "  )\n",
    "  print(f'Val loss: {val_loss:.2f} \\naccuracy: {val_acc*100:.2f}%')\n",
    "  print()\n",
    "  history['train_acc'].append(train_acc)\n",
    "  history['train_loss'].append(train_loss)\n",
    "  history['val_acc'].append(val_acc)\n",
    "  history['val_loss'].append(val_loss)\n",
    "  if val_acc > best_accuracy:\n",
    "    torch.save(model.state_dict(), 'Models/sentiment_model/best_model_state.bin')\n",
    "    best_accuracy = val_acc"
   ]
  },
  {
   "cell_type": "code",
   "execution_count": 27,
   "metadata": {
    "execution": {
     "iopub.execute_input": "2025-07-20T16:47:56.034940Z",
     "iopub.status.busy": "2025-07-20T16:47:56.034625Z",
     "iopub.status.idle": "2025-07-20T16:47:56.039974Z",
     "shell.execute_reply": "2025-07-20T16:47:56.039113Z",
     "shell.execute_reply.started": "2025-07-20T16:47:56.034915Z"
    },
    "trusted": true
   },
   "outputs": [
    {
     "name": "stdout",
     "output_type": "stream",
     "text": [
      "Best Validation Accuracy: 92.67%\n"
     ]
    }
   ],
   "source": [
    "print(f\"Best Validation Accuracy: {best_accuracy.item()*100:.2f}%\")"
   ]
  },
  {
   "cell_type": "code",
   "execution_count": 28,
   "metadata": {
    "execution": {
     "iopub.execute_input": "2025-07-20T16:47:57.350981Z",
     "iopub.status.busy": "2025-07-20T16:47:57.350676Z",
     "iopub.status.idle": "2025-07-20T16:47:57.796414Z",
     "shell.execute_reply": "2025-07-20T16:47:57.795425Z",
     "shell.execute_reply.started": "2025-07-20T16:47:57.350956Z"
    },
    "trusted": true
   },
   "outputs": [
    {
     "data": {
      "text/plain": [
       "Sentiment_Classifier(\n",
       "  (roberta): RobertaModel(\n",
       "    (embeddings): RobertaEmbeddings(\n",
       "      (word_embeddings): Embedding(50265, 768, padding_idx=1)\n",
       "      (position_embeddings): Embedding(514, 768, padding_idx=1)\n",
       "      (token_type_embeddings): Embedding(1, 768)\n",
       "      (LayerNorm): LayerNorm((768,), eps=1e-05, elementwise_affine=True)\n",
       "      (dropout): Dropout(p=0.1, inplace=False)\n",
       "    )\n",
       "    (encoder): RobertaEncoder(\n",
       "      (layer): ModuleList(\n",
       "        (0-11): 12 x RobertaLayer(\n",
       "          (attention): RobertaAttention(\n",
       "            (self): RobertaSdpaSelfAttention(\n",
       "              (query): Linear(in_features=768, out_features=768, bias=True)\n",
       "              (key): Linear(in_features=768, out_features=768, bias=True)\n",
       "              (value): Linear(in_features=768, out_features=768, bias=True)\n",
       "              (dropout): Dropout(p=0.1, inplace=False)\n",
       "            )\n",
       "            (output): RobertaSelfOutput(\n",
       "              (dense): Linear(in_features=768, out_features=768, bias=True)\n",
       "              (LayerNorm): LayerNorm((768,), eps=1e-05, elementwise_affine=True)\n",
       "              (dropout): Dropout(p=0.1, inplace=False)\n",
       "            )\n",
       "          )\n",
       "          (intermediate): RobertaIntermediate(\n",
       "            (dense): Linear(in_features=768, out_features=3072, bias=True)\n",
       "            (intermediate_act_fn): GELUActivation()\n",
       "          )\n",
       "          (output): RobertaOutput(\n",
       "            (dense): Linear(in_features=3072, out_features=768, bias=True)\n",
       "            (LayerNorm): LayerNorm((768,), eps=1e-05, elementwise_affine=True)\n",
       "            (dropout): Dropout(p=0.1, inplace=False)\n",
       "          )\n",
       "        )\n",
       "      )\n",
       "    )\n",
       "    (pooler): RobertaPooler(\n",
       "      (dense): Linear(in_features=768, out_features=768, bias=True)\n",
       "      (activation): Tanh()\n",
       "    )\n",
       "  )\n",
       "  (drop): Dropout(p=0.1, inplace=False)\n",
       "  (out): Linear(in_features=768, out_features=2, bias=True)\n",
       ")"
      ]
     },
     "execution_count": 28,
     "metadata": {},
     "output_type": "execute_result"
    }
   ],
   "source": [
    "model = torch.load('best_model.pth')\n",
    "model.to(device)"
   ]
  },
  {
   "cell_type": "code",
   "execution_count": 29,
   "metadata": {
    "execution": {
     "iopub.execute_input": "2025-07-20T16:48:01.027875Z",
     "iopub.status.busy": "2025-07-20T16:48:01.027578Z",
     "iopub.status.idle": "2025-07-20T16:48:01.033207Z",
     "shell.execute_reply": "2025-07-20T16:48:01.032402Z",
     "shell.execute_reply.started": "2025-07-20T16:48:01.027853Z"
    },
    "trusted": true
   },
   "outputs": [],
   "source": [
    "def get_predictions(model, data_loader):\n",
    "    model = model.eval()\n",
    "\n",
    "    predictions = []\n",
    "    prediction_probs =[]\n",
    "    real_values = []\n",
    "\n",
    "    with torch.no_grad():\n",
    "        for d in data_loader:\n",
    "          input_ids = d[\"input_ids\"].to(device)\n",
    "          attention_mask = d[\"attention_mask\"].to(device)\n",
    "          targets = d[\"targets\"].to(device)\n",
    "          outputs = model(\n",
    "            input_ids=input_ids,\n",
    "            attention_mask=attention_mask\n",
    "          )\n",
    "          _, preds = torch.max(outputs, dim=1)\n",
    "\n",
    "          predictions.extend(preds)\n",
    "          prediction_probs.extend(outputs)\n",
    "          real_values.extend(targets)\n",
    "    predictions = torch.stack(predictions).cpu()\n",
    "    prediction_probs = torch.stack(prediction_probs).cpu()\n",
    "    real_values = torch.stack(real_values).cpu()\n",
    "\n",
    "    return predictions, prediction_probs, real_values          "
   ]
  },
  {
   "cell_type": "code",
   "execution_count": 30,
   "metadata": {
    "execution": {
     "iopub.execute_input": "2025-07-20T16:48:02.053859Z",
     "iopub.status.busy": "2025-07-20T16:48:02.053505Z",
     "iopub.status.idle": "2025-07-20T16:48:15.770537Z",
     "shell.execute_reply": "2025-07-20T16:48:15.769816Z",
     "shell.execute_reply.started": "2025-07-20T16:48:02.053822Z"
    },
    "trusted": true
   },
   "outputs": [],
   "source": [
    "y_pred, y_pred_probs, y_test = get_predictions(model, test_data_loader)"
   ]
  },
  {
   "cell_type": "code",
   "execution_count": 31,
   "metadata": {
    "execution": {
     "iopub.execute_input": "2025-07-20T16:48:15.771812Z",
     "iopub.status.busy": "2025-07-20T16:48:15.771597Z",
     "iopub.status.idle": "2025-07-20T16:48:15.781466Z",
     "shell.execute_reply": "2025-07-20T16:48:15.780679Z",
     "shell.execute_reply.started": "2025-07-20T16:48:15.771794Z"
    },
    "trusted": true
   },
   "outputs": [
    {
     "name": "stdout",
     "output_type": "stream",
     "text": [
      "Test Accuracy: 92.00%\n"
     ]
    }
   ],
   "source": [
    "test_accuracy = (y_pred==y_test).sum().item()/len(df_test)\n",
    "print(f\"Test Accuracy: {test_accuracy*100:.2f}%\")"
   ]
  },
  {
   "cell_type": "code",
   "execution_count": 32,
   "metadata": {
    "execution": {
     "iopub.execute_input": "2025-07-20T16:48:15.783050Z",
     "iopub.status.busy": "2025-07-20T16:48:15.782821Z",
     "iopub.status.idle": "2025-07-20T16:48:15.804646Z",
     "shell.execute_reply": "2025-07-20T16:48:15.803825Z",
     "shell.execute_reply.started": "2025-07-20T16:48:15.783031Z"
    },
    "trusted": true
   },
   "outputs": [
    {
     "name": "stdout",
     "output_type": "stream",
     "text": [
      "              precision    recall  f1-score   support\n",
      "\n",
      "           0       0.90      0.94      0.92      2457\n",
      "           1       0.94      0.90      0.92      2493\n",
      "\n",
      "    accuracy                           0.92      4950\n",
      "   macro avg       0.92      0.92      0.92      4950\n",
      "weighted avg       0.92      0.92      0.92      4950\n",
      "\n"
     ]
    }
   ],
   "source": [
    "cr = classification_report(y_test, y_pred)\n",
    "print(cr)"
   ]
  },
  {
   "cell_type": "code",
   "execution_count": 33,
   "metadata": {
    "execution": {
     "iopub.execute_input": "2025-07-20T16:48:15.805711Z",
     "iopub.status.busy": "2025-07-20T16:48:15.805493Z",
     "iopub.status.idle": "2025-07-20T16:48:15.992109Z",
     "shell.execute_reply": "2025-07-20T16:48:15.991242Z",
     "shell.execute_reply.started": "2025-07-20T16:48:15.805692Z"
    },
    "trusted": true
   },
   "outputs": [
    {
     "data": {
      "image/png": "[encoded data removed]",
      "text/plain": [
       "<Figure size 600x400 with 2 Axes>"
      ]
     },
     "metadata": {},
     "output_type": "display_data"
    }
   ],
   "source": [
    "cm = confusion_matrix(y_test, y_pred)\n",
    "\n",
    "plt.figure(figsize=(6, 4))\n",
    "sns.heatmap(cm, annot=True, fmt=\"d\", cmap=\"Blues\", \n",
    "            xticklabels=['Predicted Negative', 'Predicted Positive'], \n",
    "            yticklabels=['Actual Negative', 'Actual Positive'])\n",
    "plt.ylabel('Actual')\n",
    "plt.xlabel('Predicted')\n",
    "plt.title('Confusion Matrix')\n",
    "plt.show()\n"
   ]
  },
  {
   "cell_type": "code",
   "execution_count": 34,
   "metadata": {
    "execution": {
     "iopub.execute_input": "2025-07-20T16:48:15.993221Z",
     "iopub.status.busy": "2025-07-20T16:48:15.992960Z",
     "iopub.status.idle": "2025-07-20T16:48:16.152009Z",
     "shell.execute_reply": "2025-07-20T16:48:16.151131Z",
     "shell.execute_reply.started": "2025-07-20T16:48:15.993200Z"
    },
    "trusted": true
   },
   "outputs": [
    {
     "data": {
      "image/png": "[encoded data removed]",
      "text/plain": [
       "<Figure size 640x480 with 1 Axes>"
      ]
     },
     "metadata": {},
     "output_type": "display_data"
    }
   ],
   "source": [
    "data1 = np.array([x.to(\"cpu\").detach().numpy() * 100 for x in history[\"train_acc\"]])\n",
    "data2 = np.array([x.to(\"cpu\").detach().numpy() * 100 for x in history[\"val_acc\"]])\n",
    "\n",
    "plt.plot(data1, color=\"skyblue\", label=\"Training\", marker = \"o\")\n",
    "plt.plot(data2, color=\"orange\", label=\"Validation\", marker = \"o\")\n",
    "\n",
    "plt.xlabel(\"Epochs\")\n",
    "plt.ylabel(\"Accuracy\")\n",
    "plt.title(\"Training vs Validation Accuracy\")\n",
    "\n",
    "plt.xticks(range(len(data1)))\n",
    "\n",
    "plt.legend()\n",
    "plt.show()"
   ]
  },
  {
   "cell_type": "code",
   "execution_count": 35,
   "metadata": {
    "execution": {
     "iopub.execute_input": "2025-07-20T16:48:16.153126Z",
     "iopub.status.busy": "2025-07-20T16:48:16.152837Z",
     "iopub.status.idle": "2025-07-20T16:48:16.316936Z",
     "shell.execute_reply": "2025-07-20T16:48:16.316114Z",
     "shell.execute_reply.started": "2025-07-20T16:48:16.153105Z"
    },
    "trusted": true
   },
   "outputs": [
    {
     "data": {
      "image/png": "[encoded data removed]",
      "text/plain": [
       "<Figure size 640x480 with 1 Axes>"
      ]
     },
     "metadata": {},
     "output_type": "display_data"
    }
   ],
   "source": [
    "data1 = history[\"train_loss\"]\n",
    "data2 = history[\"val_loss\"]\n",
    "\n",
    "plt.plot(data1, color=\"skyblue\", label=\"Training\", marker = \"o\") \n",
    "plt.plot(data2, color=\"orange\", label=\"Validation\", marker = \"o\")\n",
    "\n",
    "plt.xlabel(\"Epochs\")\n",
    "plt.ylabel(\"Loss\")\n",
    "plt.title(\"Training vs Validation Loss\")\n",
    "\n",
    "plt.xticks(range(len(data1)))\n",
    "\n",
    "plt.legend()\n",
    "plt.show()"
   ]
  },
  {
   "cell_type": "code",
   "execution_count": 36,
   "metadata": {
    "execution": {
     "iopub.execute_input": "2025-07-20T16:48:29.596967Z",
     "iopub.status.busy": "2025-07-20T16:48:29.596675Z",
     "iopub.status.idle": "2025-07-20T16:48:29.602146Z",
     "shell.execute_reply": "2025-07-20T16:48:29.601182Z",
     "shell.execute_reply.started": "2025-07-20T16:48:29.596946Z"
    },
    "trusted": true
   },
   "outputs": [],
   "source": [
    "def get_sentiment(prompt, model = model):\n",
    "    model.to(\"cpu\")\n",
    "    model.eval()\n",
    "    encoding = tokenizer.encode_plus(prompt, \n",
    "                                     max_length = max_length, \n",
    "                                     pad_to_max_length = True, \n",
    "                                     return_token_type_ids = False, \n",
    "                                     truncation = True,\n",
    "                                    return_tensors = \"pt\")\n",
    "    output = model(encoding[\"input_ids\"], encoding[\"attention_mask\"])\n",
    "    softmax = nn.Softmax()\n",
    "    output = softmax(output)\n",
    "    value, preds = torch.max(output, dim = 1)\n",
    "\n",
    "    if preds.item() == 1:\n",
    "        print(f\"Positive: {value.item()*100:.2f}%\")\n",
    "    else:\n",
    "        print(f\"Negative: {value.item()*100:.2f}%\")"
   ]
  },
  {
   "cell_type": "code",
   "execution_count": 37,
   "metadata": {
    "execution": {
     "iopub.execute_input": "2025-07-20T16:48:29.789002Z",
     "iopub.status.busy": "2025-07-20T16:48:29.788725Z",
     "iopub.status.idle": "2025-07-20T16:48:30.332001Z",
     "shell.execute_reply": "2025-07-20T16:48:30.331073Z",
     "shell.execute_reply.started": "2025-07-20T16:48:29.788978Z"
    },
    "trusted": true
   },
   "outputs": [
    {
     "name": "stdout",
     "output_type": "stream",
     "text": [
      "Negative: 94.78%\n"
     ]
    }
   ],
   "source": [
    "prompt = \"I am disappointed with the app; its inconsistent performance makes it unreliable.\"\n",
    "get_sentiment(prompt)"
   ]
  },
  {
   "cell_type": "code",
   "execution_count": null,
   "metadata": {
    "trusted": true
   },
   "outputs": [],
   "source": []
  }
 ],
 "metadata": {
  "kaggle": {
   "accelerator": "none",
   "dataSources": [
    {
     "datasetId": 7040334,
     "sourceId": 11378338,
     "sourceType": "datasetVersion"
    }
   ],
   "dockerImageVersionId": 30918,
   "isGpuEnabled": false,
   "isInternetEnabled": true,
   "language": "python",
   "sourceType": "notebook"
  },
  "kernelspec": {
   "display_name": "Python 3",
   "language": "python",
   "name": "python3"
  },
  "language_info": {
   "codemirror_mode": {
    "name": "ipython",
    "version": 3
   },
   "file_extension": ".py",
   "mimetype": "text/x-python",
   "name": "python",
   "nbconvert_exporter": "python",
   "pygments_lexer": "ipython3",
   "version": "3.10.12"
  }
 },
 "nbformat": 4,
 "nbformat_minor": 4
}
